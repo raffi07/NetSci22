{
  "nbformat": 4,
  "nbformat_minor": 0,
  "metadata": {
    "colab": {
      "provenance": [],
      "authorship_tag": "ABX9TyOaweO+KboVHAEqR8Y5HOzQ"
    },
    "kernelspec": {
      "name": "python3",
      "display_name": "Python 3"
    },
    "language_info": {
      "name": "python"
    }
  },
  "cells": [
    {
      "cell_type": "code",
      "execution_count": 2,
      "metadata": {
        "colab": {
          "base_uri": "https://localhost:8080/"
        },
        "id": "H1lSV-EreEBY",
        "outputId": "3df310f2-9ef2-45e1-df52-2541147c27bf"
      },
      "outputs": [
        {
          "output_type": "stream",
          "name": "stdout",
          "text": [
            "Graph with 5 nodes and 4 edges\n"
          ]
        }
      ],
      "source": [
        "import math as m\n",
        "import numpy as np\n",
        "import matplotlib.pyplot as plt\n",
        "import networkx as nx \n",
        "\n",
        "st_graph = nx.star_graph(4)\n"
      ]
    }
  ]
}